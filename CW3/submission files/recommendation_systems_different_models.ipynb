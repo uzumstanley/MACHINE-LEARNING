{
  "cells": [
    {
      "cell_type": "markdown",
      "metadata": {
        "id": "HwzCRzNaZarp"
      },
      "source": [
        "**<font size=\"5.5\">Introduction to Recommendation Systems</font>**"
      ]
    },
    {
      "cell_type": "markdown",
      "metadata": {
        "id": "dxsPJ21_Zarv"
      },
      "source": [
        "With the growing amount of information on world wide web and with significant rise number of users, it becomes increasingly important for companies to search, map and provide personalized recommendations, content and services to them.\n",
        "\n",
        "Companies nowadays are building smart and intelligent Recommendation Systems by studying the past behavior of their users. Hence providing them recommendations and choices of their interest in terms of “Relevant Job postings”, “Movies of Interest”, “Suggested Videos”, “Facebook friends that you may know” and “People who bought this also bought this” etc.\n",
        "\n",
        "Two of the most popular ways to approach recommender systems are\n",
        "* Collaborative filtering\n",
        "    * User-Based Collaborative Filtering\n",
        "    * Item-Based Collaborative Filtering\n",
        "* Content-based recommendations."
      ]
    },
    {
      "cell_type": "markdown",
      "metadata": {
        "id": "kC-zoAWjZarx"
      },
      "source": [
        "**<font size=\"4.5\">1. Importing Libraries.</font>**"
      ]
    },
    {
      "cell_type": "code",
      "execution_count": null,
      "metadata": {
        "_cell_guid": "b1076dfc-b9ad-4769-8c92-a6c4dae69d19",
        "_uuid": "8f2839f25d086af736a60e9eeb907d3b93b6e0e5",
        "id": "L0dLf4shZary"
      },
      "outputs": [],
      "source": [
        "import pandas as pd\n",
        "import matplotlib\n",
        "import matplotlib.pyplot as plt\n",
        "from sklearn.model_selection import train_test_split\n",
        "from surprise import Reader, Dataset, SVD, NormalPredictor, BaselineOnly, KNNBasic, NMF\n",
        "from surprise.model_selection import cross_validate, KFold"
      ]
    },
    {
      "cell_type": "markdown",
      "metadata": {
        "id": "uLc6aVH-Zar1"
      },
      "source": [
        "**<font size=\"4.5\">2. Reading and exploration of the data.</font>**"
      ]
    },
    {
      "cell_type": "code",
      "execution_count": null,
      "metadata": {
        "_cell_guid": "79c7e3d0-c299-4dcb-8224-4455121ee9b0",
        "_uuid": "d629ff2d2480ee46fbb7e2d37f6b5fab8052498a",
        "id": "P4_POt_8Zar1"
      },
      "outputs": [],
      "source": [
        "data = Dataset.load_from_file('../input/ml-100k/u.data', reader= Reader())\n",
        "\n",
        "ratings = pd.read_csv('../input/ml-100k/u.data', sep='\\t', header=None)\n",
        "ratings.columns = ['user_id', 'item_id', 'rating', 'timestamp']"
      ]
    },
    {
      "cell_type": "code",
      "execution_count": null,
      "metadata": {
        "id": "hht7_OODZar2"
      },
      "outputs": [],
      "source": [
        "items_cols = ['movie_id' , 'movie_title' , 'release_date' , 'video_release_date' , 'IMDb_URL' , 'unknown|' , 'Action|' , 'Adventure|', 'Animation|', \"Children's|\", 'Comedy|', 'Crime|', 'Documentary|', 'Drama|',\\\n",
        "              'Fantasy|', 'Film-Noir|', 'Horror|', 'Musical|', 'Mystery|', 'Romance|', 'Sci-Fi|', 'Thriller|', \\\n",
        "              'War|', 'Western|']\n",
        "movies = pd.read_csv('../input/ml-100k/u.item', sep='|', encoding='latin-1', names=items_cols, parse_dates=True, index_col='movie_id')"
      ]
    },
    {
      "cell_type": "code",
      "execution_count": null,
      "metadata": {
        "id": "xndBzn-xZar3",
        "outputId": "6e9a2f86-0b21-4f44-de09-e56398d1d848"
      },
      "outputs": [
        {
          "data": {
            "text/html": [
              "<div>\n",
              "<style scoped>\n",
              "    .dataframe tbody tr th:only-of-type {\n",
              "        vertical-align: middle;\n",
              "    }\n",
              "\n",
              "    .dataframe tbody tr th {\n",
              "        vertical-align: top;\n",
              "    }\n",
              "\n",
              "    .dataframe thead th {\n",
              "        text-align: right;\n",
              "    }\n",
              "</style>\n",
              "<table border=\"1\" class=\"dataframe\">\n",
              "  <thead>\n",
              "    <tr style=\"text-align: right;\">\n",
              "      <th></th>\n",
              "      <th>user_id</th>\n",
              "      <th>item_id</th>\n",
              "      <th>rating</th>\n",
              "      <th>timestamp</th>\n",
              "    </tr>\n",
              "  </thead>\n",
              "  <tbody>\n",
              "    <tr>\n",
              "      <th>0</th>\n",
              "      <td>196</td>\n",
              "      <td>242</td>\n",
              "      <td>3</td>\n",
              "      <td>881250949</td>\n",
              "    </tr>\n",
              "    <tr>\n",
              "      <th>1</th>\n",
              "      <td>186</td>\n",
              "      <td>302</td>\n",
              "      <td>3</td>\n",
              "      <td>891717742</td>\n",
              "    </tr>\n",
              "    <tr>\n",
              "      <th>2</th>\n",
              "      <td>22</td>\n",
              "      <td>377</td>\n",
              "      <td>1</td>\n",
              "      <td>878887116</td>\n",
              "    </tr>\n",
              "    <tr>\n",
              "      <th>3</th>\n",
              "      <td>244</td>\n",
              "      <td>51</td>\n",
              "      <td>2</td>\n",
              "      <td>880606923</td>\n",
              "    </tr>\n",
              "    <tr>\n",
              "      <th>4</th>\n",
              "      <td>166</td>\n",
              "      <td>346</td>\n",
              "      <td>1</td>\n",
              "      <td>886397596</td>\n",
              "    </tr>\n",
              "  </tbody>\n",
              "</table>\n",
              "</div>"
            ],
            "text/plain": [
              "   user_id  item_id  rating  timestamp\n",
              "0      196      242       3  881250949\n",
              "1      186      302       3  891717742\n",
              "2       22      377       1  878887116\n",
              "3      244       51       2  880606923\n",
              "4      166      346       1  886397596"
            ]
          },
          "execution_count": 4,
          "metadata": {},
          "output_type": "execute_result"
        }
      ],
      "source": [
        "ratings.head()"
      ]
    },
    {
      "cell_type": "code",
      "execution_count": null,
      "metadata": {
        "id": "aoi66VaOZar5",
        "outputId": "25e4773c-0b6b-41e9-8380-6268f751f089"
      },
      "outputs": [
        {
          "data": {
            "text/plain": [
              "(100000, 4)"
            ]
          },
          "execution_count": 5,
          "metadata": {},
          "output_type": "execute_result"
        }
      ],
      "source": [
        "ratings.shape"
      ]
    },
    {
      "cell_type": "code",
      "execution_count": null,
      "metadata": {
        "id": "WB2HTqsdZar7",
        "outputId": "6a77af0c-4785-4254-b965-2b6926ebd7e9"
      },
      "outputs": [
        {
          "data": {
            "text/html": [
              "<div>\n",
              "<style scoped>\n",
              "    .dataframe tbody tr th:only-of-type {\n",
              "        vertical-align: middle;\n",
              "    }\n",
              "\n",
              "    .dataframe tbody tr th {\n",
              "        vertical-align: top;\n",
              "    }\n",
              "\n",
              "    .dataframe thead th {\n",
              "        text-align: right;\n",
              "    }\n",
              "</style>\n",
              "<table border=\"1\" class=\"dataframe\">\n",
              "  <thead>\n",
              "    <tr style=\"text-align: right;\">\n",
              "      <th></th>\n",
              "      <th>movie_title</th>\n",
              "      <th>release_date</th>\n",
              "      <th>video_release_date</th>\n",
              "      <th>IMDb_URL</th>\n",
              "      <th>unknown|</th>\n",
              "      <th>Action|</th>\n",
              "      <th>Adventure|</th>\n",
              "      <th>Animation|</th>\n",
              "      <th>Children's|</th>\n",
              "      <th>Comedy|</th>\n",
              "      <th>Crime|</th>\n",
              "      <th>Documentary|</th>\n",
              "      <th>Drama|</th>\n",
              "      <th>Fantasy|</th>\n",
              "      <th>Film-Noir|</th>\n",
              "      <th>Horror|</th>\n",
              "      <th>Musical|</th>\n",
              "      <th>Mystery|</th>\n",
              "      <th>Romance|</th>\n",
              "      <th>Sci-Fi|</th>\n",
              "      <th>Thriller|</th>\n",
              "      <th>War|</th>\n",
              "      <th>Western|</th>\n",
              "    </tr>\n",
              "    <tr>\n",
              "      <th>movie_id</th>\n",
              "      <th></th>\n",
              "      <th></th>\n",
              "      <th></th>\n",
              "      <th></th>\n",
              "      <th></th>\n",
              "      <th></th>\n",
              "      <th></th>\n",
              "      <th></th>\n",
              "      <th></th>\n",
              "      <th></th>\n",
              "      <th></th>\n",
              "      <th></th>\n",
              "      <th></th>\n",
              "      <th></th>\n",
              "      <th></th>\n",
              "      <th></th>\n",
              "      <th></th>\n",
              "      <th></th>\n",
              "      <th></th>\n",
              "      <th></th>\n",
              "      <th></th>\n",
              "      <th></th>\n",
              "      <th></th>\n",
              "    </tr>\n",
              "  </thead>\n",
              "  <tbody>\n",
              "    <tr>\n",
              "      <th>1</th>\n",
              "      <td>Toy Story (1995)</td>\n",
              "      <td>01-Jan-1995</td>\n",
              "      <td>NaN</td>\n",
              "      <td>http://us.imdb.com/M/title-exact?Toy%20Story%2...</td>\n",
              "      <td>0</td>\n",
              "      <td>0</td>\n",
              "      <td>0</td>\n",
              "      <td>1</td>\n",
              "      <td>1</td>\n",
              "      <td>1</td>\n",
              "      <td>0</td>\n",
              "      <td>0</td>\n",
              "      <td>0</td>\n",
              "      <td>0</td>\n",
              "      <td>0</td>\n",
              "      <td>0</td>\n",
              "      <td>0</td>\n",
              "      <td>0</td>\n",
              "      <td>0</td>\n",
              "      <td>0</td>\n",
              "      <td>0</td>\n",
              "      <td>0</td>\n",
              "      <td>0</td>\n",
              "    </tr>\n",
              "    <tr>\n",
              "      <th>2</th>\n",
              "      <td>GoldenEye (1995)</td>\n",
              "      <td>01-Jan-1995</td>\n",
              "      <td>NaN</td>\n",
              "      <td>http://us.imdb.com/M/title-exact?GoldenEye%20(...</td>\n",
              "      <td>0</td>\n",
              "      <td>1</td>\n",
              "      <td>1</td>\n",
              "      <td>0</td>\n",
              "      <td>0</td>\n",
              "      <td>0</td>\n",
              "      <td>0</td>\n",
              "      <td>0</td>\n",
              "      <td>0</td>\n",
              "      <td>0</td>\n",
              "      <td>0</td>\n",
              "      <td>0</td>\n",
              "      <td>0</td>\n",
              "      <td>0</td>\n",
              "      <td>0</td>\n",
              "      <td>0</td>\n",
              "      <td>1</td>\n",
              "      <td>0</td>\n",
              "      <td>0</td>\n",
              "    </tr>\n",
              "    <tr>\n",
              "      <th>3</th>\n",
              "      <td>Four Rooms (1995)</td>\n",
              "      <td>01-Jan-1995</td>\n",
              "      <td>NaN</td>\n",
              "      <td>http://us.imdb.com/M/title-exact?Four%20Rooms%...</td>\n",
              "      <td>0</td>\n",
              "      <td>0</td>\n",
              "      <td>0</td>\n",
              "      <td>0</td>\n",
              "      <td>0</td>\n",
              "      <td>0</td>\n",
              "      <td>0</td>\n",
              "      <td>0</td>\n",
              "      <td>0</td>\n",
              "      <td>0</td>\n",
              "      <td>0</td>\n",
              "      <td>0</td>\n",
              "      <td>0</td>\n",
              "      <td>0</td>\n",
              "      <td>0</td>\n",
              "      <td>0</td>\n",
              "      <td>1</td>\n",
              "      <td>0</td>\n",
              "      <td>0</td>\n",
              "    </tr>\n",
              "    <tr>\n",
              "      <th>4</th>\n",
              "      <td>Get Shorty (1995)</td>\n",
              "      <td>01-Jan-1995</td>\n",
              "      <td>NaN</td>\n",
              "      <td>http://us.imdb.com/M/title-exact?Get%20Shorty%...</td>\n",
              "      <td>0</td>\n",
              "      <td>1</td>\n",
              "      <td>0</td>\n",
              "      <td>0</td>\n",
              "      <td>0</td>\n",
              "      <td>1</td>\n",
              "      <td>0</td>\n",
              "      <td>0</td>\n",
              "      <td>1</td>\n",
              "      <td>0</td>\n",
              "      <td>0</td>\n",
              "      <td>0</td>\n",
              "      <td>0</td>\n",
              "      <td>0</td>\n",
              "      <td>0</td>\n",
              "      <td>0</td>\n",
              "      <td>0</td>\n",
              "      <td>0</td>\n",
              "      <td>0</td>\n",
              "    </tr>\n",
              "    <tr>\n",
              "      <th>5</th>\n",
              "      <td>Copycat (1995)</td>\n",
              "      <td>01-Jan-1995</td>\n",
              "      <td>NaN</td>\n",
              "      <td>http://us.imdb.com/M/title-exact?Copycat%20(1995)</td>\n",
              "      <td>0</td>\n",
              "      <td>0</td>\n",
              "      <td>0</td>\n",
              "      <td>0</td>\n",
              "      <td>0</td>\n",
              "      <td>0</td>\n",
              "      <td>1</td>\n",
              "      <td>0</td>\n",
              "      <td>1</td>\n",
              "      <td>0</td>\n",
              "      <td>0</td>\n",
              "      <td>0</td>\n",
              "      <td>0</td>\n",
              "      <td>0</td>\n",
              "      <td>0</td>\n",
              "      <td>0</td>\n",
              "      <td>1</td>\n",
              "      <td>0</td>\n",
              "      <td>0</td>\n",
              "    </tr>\n",
              "  </tbody>\n",
              "</table>\n",
              "</div>"
            ],
            "text/plain": [
              "                movie_title release_date   ...     War| Western|\n",
              "movie_id                                   ...                  \n",
              "1          Toy Story (1995)  01-Jan-1995   ...        0        0\n",
              "2          GoldenEye (1995)  01-Jan-1995   ...        0        0\n",
              "3         Four Rooms (1995)  01-Jan-1995   ...        0        0\n",
              "4         Get Shorty (1995)  01-Jan-1995   ...        0        0\n",
              "5            Copycat (1995)  01-Jan-1995   ...        0        0\n",
              "\n",
              "[5 rows x 23 columns]"
            ]
          },
          "execution_count": 6,
          "metadata": {},
          "output_type": "execute_result"
        }
      ],
      "source": [
        "movies.head()"
      ]
    },
    {
      "cell_type": "markdown",
      "metadata": {
        "id": "BhqlPlEEZar8"
      },
      "source": [
        "**<font size=\"4.5\"> 3. Data Visualization. </font>**"
      ]
    },
    {
      "cell_type": "code",
      "execution_count": null,
      "metadata": {
        "id": "wl_k6RYoZar8",
        "outputId": "4ce6532e-e8b0-427f-c238-3711d303871d"
      },
      "outputs": [
        {
          "data": {
            "text/plain": [
              "943"
            ]
          },
          "execution_count": 7,
          "metadata": {},
          "output_type": "execute_result"
        }
      ],
      "source": [
        "uniq = ratings.user_id.unique()\n",
        "len(uniq)"
      ]
    },
    {
      "cell_type": "code",
      "execution_count": null,
      "metadata": {
        "id": "Xa-Fs32VZar-",
        "outputId": "77296264-8c84-465e-a9b4-5e5c484178ef"
      },
      "outputs": [
        {
          "data": {
            "text/plain": [
              "<matplotlib.axes._subplots.AxesSubplot at 0x7f45cca32320>"
            ]
          },
          "execution_count": 8,
          "metadata": {},
          "output_type": "execute_result"
        },
        {
          "data": {
            "image/png": "[encoded data removed]",
            "text/plain": [
              "<Figure size 432x288 with 1 Axes>"
            ]
          },
          "metadata": {
            "needs_background": "light"
          },
          "output_type": "display_data"
        }
      ],
      "source": [
        "ratings = ratings.rating\n",
        "ratings.value_counts().sort_index().plot.bar()"
      ]
    },
    {
      "cell_type": "code",
      "execution_count": null,
      "metadata": {
        "id": "PlhVHuESZar_",
        "outputId": "bc1ca533-6071-4899-c1b1-fa46cb031ab2"
      },
      "outputs": [
        {
          "data": {
            "text/plain": [
              "count    100000.000000\n",
              "mean          3.529860\n",
              "std           1.125674\n",
              "min           1.000000\n",
              "25%           3.000000\n",
              "50%           4.000000\n",
              "75%           4.000000\n",
              "max           5.000000\n",
              "Name: rating, dtype: float64"
            ]
          },
          "execution_count": 9,
          "metadata": {},
          "output_type": "execute_result"
        }
      ],
      "source": [
        "ratings.describe()"
      ]
    },
    {
      "cell_type": "markdown",
      "metadata": {
        "id": "TBMQekKMZasA"
      },
      "source": [
        "**<font size=\"4.5\"> 4. Model Application. </font>**"
      ]
    },
    {
      "cell_type": "markdown",
      "metadata": {
        "id": "w5QQNnJ-ZasB"
      },
      "source": [
        "**<font size=\"4\"> Random Model. </font>**\n",
        "\n",
        "This algorithm predicts a random rating based on the distribution of the training set, which is assumed to be normal. This is one of the most basic algorithms."
      ]
    },
    {
      "cell_type": "code",
      "execution_count": null,
      "metadata": {
        "id": "RD2KHNcLZasC"
      },
      "outputs": [],
      "source": [
        "model_random = NormalPredictor()"
      ]
    },
    {
      "cell_type": "code",
      "execution_count": null,
      "metadata": {
        "id": "P8UCNrWWZasD",
        "outputId": "ce7367ba-c3bf-4b8c-ffac-74a11a037c03"
      },
      "outputs": [
        {
          "name": "stdout",
          "output_type": "stream",
          "text": [
            "Evaluating RMSE of algorithm NormalPredictor on 5 split(s).\n",
            "\n",
            "                  Fold 1  Fold 2  Fold 3  Fold 4  Fold 5  Mean    Std     \n",
            "RMSE (testset)    1.5197  1.5194  1.5215  1.4993  1.5251  1.5170  0.0091  \n",
            "Fit time          0.15    0.18    0.18    0.18    0.17    0.17    0.01    \n",
            "Test time         0.28    0.16    0.15    0.25    0.15    0.20    0.06    \n"
          ]
        }
      ],
      "source": [
        "model_random_results = cross_validate(model_random, data, measures=['RMSE'], cv=5, verbose=True)"
      ]
    },
    {
      "cell_type": "markdown",
      "metadata": {
        "id": "6QzoiX6lZasE"
      },
      "source": [
        "**<font size=\"4\">User-Based Collaborative Filtering (UB-CF). </font>**\n",
        "\n",
        "This algorithm takes a particular user, find users who have similar ratings, and then recommend items that those similar users liked.\n",
        "\n",
        "To implement a user based collaborative filtering we will use the Nearest Neighbor algorithm. This algorithm needs three tasks:\n",
        "\n",
        "1. Find the K-nearest neighbors (KNN), that are similar to the user A, using a similarity function to measure the distance between each pair of users.\n",
        "\n",
        "2. Predict the rating that user A will give to all items the K neighbors have consumed but A has not.\n",
        "\n",
        "3. Select top-n rated movies."
      ]
    },
    {
      "cell_type": "code",
      "execution_count": null,
      "metadata": {
        "id": "gZgkrYjxZasE"
      },
      "outputs": [],
      "source": [
        "model_user_based = KNNBasic(sim_options={'user_based': True})"
      ]
    },
    {
      "cell_type": "code",
      "execution_count": null,
      "metadata": {
        "id": "3vZEdlu2ZasG",
        "outputId": "4a18073e-5deb-4ad4-86ec-776b54998e6e"
      },
      "outputs": [
        {
          "name": "stdout",
          "output_type": "stream",
          "text": [
            "Computing the msd similarity matrix...\n",
            "Done computing similarity matrix.\n",
            "Computing the msd similarity matrix...\n",
            "Done computing similarity matrix.\n",
            "Computing the msd similarity matrix...\n",
            "Done computing similarity matrix.\n",
            "Computing the msd similarity matrix...\n",
            "Done computing similarity matrix.\n",
            "Computing the msd similarity matrix...\n",
            "Done computing similarity matrix.\n",
            "Evaluating RMSE of algorithm KNNBasic on 5 split(s).\n",
            "\n",
            "                  Fold 1  Fold 2  Fold 3  Fold 4  Fold 5  Mean    Std     \n",
            "RMSE (testset)    0.9783  0.9825  0.9774  0.9837  0.9694  0.9782  0.0050  \n",
            "Fit time          0.52    0.52    0.51    0.48    0.50    0.51    0.01    \n",
            "Test time         4.31    4.36    4.50    4.34    4.43    4.39    0.07    \n"
          ]
        }
      ],
      "source": [
        "model_user_based_results = cross_validate(model_user_based, data, measures=['RMSE'], cv=5, verbose=True)"
      ]
    },
    {
      "cell_type": "markdown",
      "metadata": {
        "id": "H6r9QMUbZasH"
      },
      "source": [
        "**<font size=\"4\">User-Based Collaborative Filtering (UB-CF). </font>**\n",
        "\n",
        "In this approach, instead of focus on similar users to our user A, we will focus on what items from all the options, are more similar to what we know the user A enjoys.\n",
        "\n",
        "The algorith will work in three tasks:\n",
        "\n",
        "1. Calculate the similarity between any two items and fill up the item-item similarity matrix.\n",
        "\n",
        "2. Predict the ratings of movies that are rated by user A.\n",
        "\n",
        "3. Select top-n rated movies for A."
      ]
    },
    {
      "cell_type": "code",
      "execution_count": null,
      "metadata": {
        "id": "dH5BtcpsZasI"
      },
      "outputs": [],
      "source": [
        "model_item_based = KNNBasic(sim_options={'user_based': False})"
      ]
    },
    {
      "cell_type": "code",
      "execution_count": null,
      "metadata": {
        "id": "L8wy3BbnZasK",
        "outputId": "5207848f-434a-4239-a3bb-cf9e3870d9dd"
      },
      "outputs": [
        {
          "name": "stdout",
          "output_type": "stream",
          "text": [
            "Computing the msd similarity matrix...\n",
            "Done computing similarity matrix.\n",
            "Computing the msd similarity matrix...\n",
            "Done computing similarity matrix.\n",
            "Computing the msd similarity matrix...\n",
            "Done computing similarity matrix.\n",
            "Computing the msd similarity matrix...\n",
            "Done computing similarity matrix.\n",
            "Computing the msd similarity matrix...\n",
            "Done computing similarity matrix.\n",
            "Evaluating RMSE of algorithm KNNBasic on 5 split(s).\n",
            "\n",
            "                  Fold 1  Fold 2  Fold 3  Fold 4  Fold 5  Mean    Std     \n",
            "RMSE (testset)    0.9756  0.9749  0.9718  0.9736  0.9751  0.9742  0.0013  \n",
            "Fit time          0.79    0.78    0.73    0.71    0.73    0.75    0.03    \n",
            "Test time         4.86    4.92    4.95    4.89    5.10    4.94    0.08    \n"
          ]
        }
      ],
      "source": [
        "model_item_based_results = cross_validate(model_item_based, data, measures=['RMSE'], cv=5, verbose=True)"
      ]
    },
    {
      "cell_type": "markdown",
      "metadata": {
        "id": "TsVSrPaHZasM"
      },
      "source": [
        "**<font size=\"4\">Matrix Factorization. </font>**\n",
        "\n",
        "In the matrix factorization model the recommendations are based on the discovery of latent features of the interactions between users and items."
      ]
    },
    {
      "cell_type": "code",
      "execution_count": null,
      "metadata": {
        "id": "xesP1blAZasN"
      },
      "outputs": [],
      "source": [
        "model_mat_fac = SVD()"
      ]
    },
    {
      "cell_type": "code",
      "execution_count": null,
      "metadata": {
        "id": "lWyBxLX0ZasO",
        "outputId": "411e6313-ec4f-4521-b979-dfd12e920ce7"
      },
      "outputs": [
        {
          "name": "stdout",
          "output_type": "stream",
          "text": [
            "Evaluating RMSE of algorithm SVD on 5 split(s).\n",
            "\n",
            "                  Fold 1  Fold 2  Fold 3  Fold 4  Fold 5  Mean    Std     \n",
            "RMSE (testset)    0.9316  0.9390  0.9371  0.9362  0.9399  0.9368  0.0029  \n",
            "Fit time          6.04    6.04    6.07    6.03    6.04    6.04    0.01    \n",
            "Test time         0.18    0.17    0.31    0.17    0.17    0.20    0.06    \n"
          ]
        }
      ],
      "source": [
        "model_mat_fac_results = cross_validate(model_mat_fac, data, measures=['RMSE'], cv=5, verbose=True)"
      ]
    },
    {
      "cell_type": "markdown",
      "metadata": {
        "id": "bpzP63gAZasP"
      },
      "source": [
        "**<font size=\"4.5\"> 5. Comparison. </font>**"
      ]
    },
    {
      "cell_type": "code",
      "execution_count": null,
      "metadata": {
        "id": "W7lb8TIwZasQ",
        "outputId": "a48a5c20-8b85-4016-f5d8-e3f4d5327f75"
      },
      "outputs": [
        {
          "name": "stdout",
          "output_type": "stream",
          "text": [
            "\t RMSE Means for each model\n",
            "\n",
            "Random                  1.5170\n",
            "User-based              0.9782\n",
            "Item-based              0.9742\n",
            "Matrix factorization    0.9368\n",
            "dtype: float64\n"
          ]
        }
      ],
      "source": [
        "means = [round(model_random_results['test_rmse'].mean(),4),round(model_user_based_results['test_rmse'].mean(),4), round(model_item_based_results['test_rmse'].mean(),4), round(model_mat_fac_results['test_rmse'].mean(),4)]\n",
        "table = pd.Series(means, ['Random','User-based', 'Item-based', 'Matrix factorization'])\n",
        "print(\"\\t RMSE Means for each model\\n\")\n",
        "print(table)"
      ]
    },
    {
      "cell_type": "markdown",
      "metadata": {
        "id": "vV0apOiBZasR"
      },
      "source": [
        "**<font size=\"4.5\"> 6. Predictions. </font>**"
      ]
    },
    {
      "cell_type": "code",
      "execution_count": null,
      "metadata": {
        "id": "lfNpfcGXZasS"
      },
      "outputs": [],
      "source": [
        "def get_top_n(predictions, n=5):\n",
        "    # First map the predictions to each user.\n",
        "    top_n = dict()\n",
        "    for uid, iid, true_r, est, _ in predictions:\n",
        "        current = top_n.get(uid, [])\n",
        "        current.append((iid, movies.loc[int(iid),'movie_title'], round(est,2)))\n",
        "        top_n[uid] = current\n",
        "\n",
        "    # Then sort the predictions for each user and retrieve the k highest ones.\n",
        "    for uid, user_ratings in top_n.items():\n",
        "        user_ratings.sort(key=lambda x: x[2], reverse=True)\n",
        "        top_n[uid] = user_ratings[:n]\n",
        "\n",
        "    return top_n"
      ]
    },
    {
      "cell_type": "code",
      "execution_count": null,
      "metadata": {
        "id": "xj1P-sCiZasT"
      },
      "outputs": [],
      "source": [
        "trainset = data.build_full_trainset()\n",
        "testset = trainset.build_anti_testset()"
      ]
    },
    {
      "cell_type": "code",
      "execution_count": null,
      "metadata": {
        "id": "rJl5s85bZasU"
      },
      "outputs": [],
      "source": [
        "models = [model_random, model_user_based, model_item_based, model_mat_fac]"
      ]
    },
    {
      "cell_type": "code",
      "execution_count": null,
      "metadata": {
        "id": "pLALHPjDZasV",
        "outputId": "3fbfb850-932a-4fbb-92f0-fdb85cec662a"
      },
      "outputs": [
        {
          "name": "stdout",
          "output_type": "stream",
          "text": [
            "User: 196\n",
            "Model: <surprise.prediction_algorithms.random_pred.NormalPredictor object at 0x7f45e53990f0>\n",
            "  Movie ID                                         Movie Name  rating\n",
            "0      465                            Jungle Book, The (1994)       5\n",
            "1       86                     Remains of the Day, The (1993)       5\n",
            "2     1014      Romy and Michele's High School Reunion (1997)       5\n",
            "3       40  To Wong Foo, Thanks for Everything! Julie Newm...       5\n",
            "4       32                                       Crumb (1994)       5\n",
            "\n",
            "\n",
            "Computing the msd similarity matrix...\n",
            "Done computing similarity matrix.\n",
            "User: 196\n",
            "Model: <surprise.prediction_algorithms.knns.KNNBasic object at 0x7f45cca11438>\n",
            "  Movie ID                     Movie Name  rating\n",
            "0     1189             Prefontaine (1997)     5.0\n",
            "1     1500      Santa with Muscles (1996)     5.0\n",
            "2      814  Great Day in Harlem, A (1994)     5.0\n",
            "3     1536           Aiqing wansui (1994)     5.0\n",
            "4     1293                Star Kid (1997)     5.0\n",
            "\n",
            "\n",
            "Computing the msd similarity matrix...\n",
            "Done computing similarity matrix.\n",
            "User: 196\n",
            "Model: <surprise.prediction_algorithms.knns.KNNBasic object at 0x7f45cca11390>\n",
            "  Movie ID                    Movie Name  rating\n",
            "0     1414            Coldblooded (1995)    4.67\n",
            "1     1309  Very Natural Thing, A (1974)    4.50\n",
            "2     1310     Walk in the Sun, A (1945)    4.50\n",
            "3     1675         Sunchaser, The (1996)    4.33\n",
            "4     1676       War at Home, The (1996)    4.31\n",
            "\n",
            "\n",
            "User: 196\n",
            "Model: <surprise.prediction_algorithms.matrix_factorization.SVD object at 0x7f45ccabc8d0>\n",
            "  Movie ID                        Movie Name  rating\n",
            "0      408             Close Shave, A (1995)    4.56\n",
            "1      483                 Casablanca (1942)    4.51\n",
            "2      272          Good Will Hunting (1997)    4.44\n",
            "3       64  Shawshank Redemption, The (1994)    4.42\n",
            "4       12        Usual Suspects, The (1995)    4.42\n",
            "\n",
            "\n"
          ]
        }
      ],
      "source": [
        "listt = []\n",
        "for model in models:\n",
        "    model.fit(trainset)\n",
        "    predictions = model.test(testset)\n",
        "    top_n = get_top_n(predictions, n=5)\n",
        "    user = list(top_n.keys())[0]\n",
        "    print('User:',user)\n",
        "    print('Model:',model)\n",
        "    table = pd.DataFrame(top_n[user], columns=['Movie ID','Movie Name', 'rating'])\n",
        "    print(table)\n",
        "    print('\\n')\n",
        ""
      ]
    },
    {
      "cell_type": "code",
      "execution_count": null,
      "metadata": {
        "id": "5vNaggIDZasW"
      },
      "outputs": [],
      "source": []
    }
  ],
  "metadata": {
    "kernelspec": {
      "display_name": "Python 3 (ipykernel)",
      "language": "python",
      "name": "python3"
    },
    "language_info": {
      "codemirror_mode": {
        "name": "ipython",
        "version": 3
      },
      "file_extension": ".py",
      "mimetype": "text/x-python",
      "name": "python",
      "nbconvert_exporter": "python",
      "pygments_lexer": "ipython3",
      "version": "3.11.5"
    },
    "colab": {
      "provenance": []
    }
  },
  "nbformat": 4,
  "nbformat_minor": 0
}