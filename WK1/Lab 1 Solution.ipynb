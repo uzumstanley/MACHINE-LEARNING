{
 "cells": [
  {
   "cell_type": "code",
   "execution_count": 1,
   "id": "826545cd",
   "metadata": {},
   "outputs": [
    {
     "name": "stdout",
     "output_type": "stream",
     "text": [
      "  Person Name Country   Product Purchase Price\n",
      "0         Jon   Japan  Computer           $800\n",
      "1        Bill      US    Tablet           $450\n",
      "2       Maria  Canada   Printer           $150\n",
      "3        Rita  Brazil    Laptop         $1,200\n",
      "4        Jack      UK   Monitor           $300\n",
      "5         Ron   Spain    Laptop         $1,200\n",
      "6        Jeff   China    Laptop         $1,200\n",
      "7      Carrie   Italy  Computer           $800\n",
      "8       Marry    Peru  Computer           $800\n",
      "9         Ben  Russia   Printer           $150\n"
     ]
    }
   ],
   "source": [
    "import pandas as pd\n",
    "\n",
    "df = pd.read_csv ('Clients.csv') # only read csv file without path if your file and notebook under the same folder\n",
    "\n",
    "print(df)"
   ]
  },
  {
   "cell_type": "code",
   "execution_count": 2,
   "id": "047991a4",
   "metadata": {},
   "outputs": [
    {
     "name": "stdout",
     "output_type": "stream",
     "text": [
      "  Person Name Country\n",
      "0         Jon   Japan\n",
      "1        Bill      US\n",
      "2       Maria  Canada\n",
      "3        Rita  Brazil\n",
      "4        Jack      UK\n",
      "5         Ron   Spain\n",
      "6        Jeff   China\n",
      "7      Carrie   Italy\n",
      "8       Marry    Peru\n",
      "9         Ben  Russia\n"
     ]
    }
   ],
   "source": [
    "import pandas as pd\n",
    "\n",
    "data = pd.read_csv ('Clients.csv')\n",
    "df = pd.DataFrame(data, columns= ['Person Name', 'Country'])\n",
    "\n",
    "print(df)"
   ]
  },
  {
   "cell_type": "code",
   "execution_count": null,
   "id": "fd826f97",
   "metadata": {},
   "outputs": [],
   "source": []
  }
 ],
 "metadata": {
  "kernelspec": {
   "display_name": "Python 3 (ipykernel)",
   "language": "python",
   "name": "python3"
  },
  "language_info": {
   "codemirror_mode": {
    "name": "ipython",
    "version": 3
   },
   "file_extension": ".py",
   "mimetype": "text/x-python",
   "name": "python",
   "nbconvert_exporter": "python",
   "pygments_lexer": "ipython3",
   "version": "3.8.16"
  }
 },
 "nbformat": 4,
 "nbformat_minor": 5
}
